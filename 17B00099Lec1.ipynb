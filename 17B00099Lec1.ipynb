{
  "nbformat": 4,
  "nbformat_minor": 0,
  "metadata": {
    "kernelspec": {
      "display_name": "Python 3",
      "language": "python",
      "name": "python3"
    },
    "language_info": {
      "codemirror_mode": {
        "name": "ipython",
        "version": 3
      },
      "file_extension": ".py",
      "mimetype": "text/x-python",
      "name": "python",
      "nbconvert_exporter": "python",
      "pygments_lexer": "ipython3",
      "version": "3.6.4"
    },
    "colab": {
      "name": "17B00099Lec1.ipynb",
      "provenance": [],
      "collapsed_sections": [
        "WGFK7KaDiRFU"
      ],
      "include_colab_link": true
    }
  },
  "cells": [
    {
      "cell_type": "markdown",
      "metadata": {
        "id": "view-in-github",
        "colab_type": "text"
      },
      "source": [
        "<a href=\"https://colab.research.google.com/github/ppama/github-slideshow/blob/main/17B00099Lec1.ipynb\" target=\"_parent\"><img src=\"https://colab.research.google.com/assets/colab-badge.svg\" alt=\"Open In Colab\"/></a>"
      ]
    },
    {
      "cell_type": "markdown",
      "metadata": {
        "id": "vjPjzos1eace"
      },
      "source": [
        "# Impressions about the Class\r\n",
        "\r\n",
        "Using notebooks is very useful. \r\n",
        "I would like to know about using notebooks, such as how to use jupyter notebook.\r\n",
        "\r\n",
        "Name: Pascal Bernardino Pama\r\n",
        "Student ID: 17B00099"
      ]
    },
    {
      "cell_type": "markdown",
      "metadata": {
        "id": "WGFK7KaDiRFU"
      },
      "source": [
        "# Day 1\n",
        "## Let's get started\n",
        "* Please remember two short cut.\n",
        "  * Ctrl-Enter (Push Ctrl key and Enter key simultaneously.): Execute command.\n",
        "  * Shift-Enter (Push Shift key and Enter key simultaneously.): Make a new cell.\n",
        "* Write the followings in a sell.\n",
        "```\n",
        "    print(\"Hello world.\")\n",
        "```\n",
        "* And type Ctrl-Enter.\n",
        "* You can see ```Hello world.```\n",
        "* Type Shift-Enter and write\n",
        "```\n",
        "a = 4\n",
        "b = 7\n",
        "c = a + b\n",
        "print(a, b, c)\n",
        "```\n",
        "* And type Ctrl-Enter.\n",
        "* Rewrite the last line to \n",
        "```\n",
        "print(\"{0} + {1} = {2}\".format(a, b, c))\n",
        "```\n",
        "* And type Ctrl-Enter.\n"
      ]
    },
    {
      "cell_type": "code",
      "metadata": {
        "id": "toWNr_8Ih2iN",
        "colab": {
          "base_uri": "https://localhost:8080/"
        },
        "outputId": "2a7c7c94-0296-41c7-f7ed-978924cf5457"
      },
      "source": [
        "# Make a program: Hello world\r\n",
        "print(\"Hello world.\")"
      ],
      "execution_count": null,
      "outputs": [
        {
          "output_type": "stream",
          "text": [
            "Hello world.\n"
          ],
          "name": "stdout"
        }
      ]
    },
    {
      "cell_type": "code",
      "metadata": {
        "id": "jzC-OIwJh2iQ",
        "colab": {
          "base_uri": "https://localhost:8080/"
        },
        "outputId": "045393e7-31ec-4ead-e966-4a26d1b7e2e5"
      },
      "source": [
        "# Make a program: Calculation\r\n",
        "a = 4\r\n",
        "b = 7\r\n",
        "c = a + b\r\n",
        "print(a, b, c)\r\n"
      ],
      "execution_count": null,
      "outputs": [
        {
          "output_type": "stream",
          "text": [
            "4 7 11\n"
          ],
          "name": "stdout"
        }
      ]
    },
    {
      "cell_type": "code",
      "metadata": {
        "id": "kGb1ECuSh2iW",
        "colab": {
          "base_uri": "https://localhost:8080/"
        },
        "outputId": "29794f08-be24-4359-e580-6cb17acb1258"
      },
      "source": [
        "# Make a program: Print with format\r\n",
        "a = 4\r\n",
        "b = 7\r\n",
        "c = a + b\r\n",
        "print (\"{0} + {1} = {2}\".format(a,b,c))"
      ],
      "execution_count": 1,
      "outputs": [
        {
          "output_type": "stream",
          "text": [
            "4 + 7 = 11\n"
          ],
          "name": "stdout"
        }
      ]
    },
    {
      "cell_type": "markdown",
      "metadata": {
        "id": "zH15pOjLj2U-"
      },
      "source": [
        "# Introduction to Python\n",
        "## Variables\n",
        "\n",
        "Variables can contain a values, values with structure, and objects.\n",
        "\n",
        "### Identifier\n",
        " * Name for a variable, a function, and a class.\n",
        " * Letters can be used for name of variable:\n",
        "  * Alphabet (`a`, `b`, ..., `A`, `B`, ...): Lower and upper cases are distinguished.)\n",
        "  * Numeral (`0`, `1`, `2`, ...) They cannot be used for the beginning.\n",
        "  * `_`\n",
        "  * Almost all of Unicode (`あ`, `ア`, `阿`, ...) Some of symbols are not allowed.\n",
        " * Example\n",
        "  * <font color=\"green\">Good</font>: `abc`, `_dAf_g`, `エビシ`, `阿`, `π`\n",
        "  *<font color=\"orange\">NG</font>: `3abc`, `$abc`, `阿。`, `３abc`\n",
        " * Keywords (Don't use as the name of variable.)\n",
        "   ** `False`, `None`, `True`, `and`, \n",
        "`as`, `assert`, `break`, `class`, `continue`, \n",
        "`def`, `del`, `elif`, `else`, `except`, \n",
        "`finally`, `for`, `from`, `global`, `if`, \n",
        "`import`, `in`, `is`, `lambda`, `nonlocal`, \n",
        "`not`, `or`, `pass`, `raise`, `return`, \n",
        "`try`, `while`, `with`, `yield`\n",
        " * Reserved classes of identifiers: `_*`, `__*`, `__*__`, \n",
        "\n",
        "### Type of data\n",
        "* Every data is handled as a object in Python.\n",
        "* Integer and float are also objects.  \n",
        "\n",
        "### Embedded types for numbers\n",
        "\n",
        "* `bool`\n",
        "* `int`\n",
        "* `float`\n",
        "* `complex`\n",
        "\n",
        "### Embedded types for multiple data\n",
        "* Immutable sequence \n",
        " * `tuple`\n",
        " * `string`\n",
        " * `bytes`\n",
        "* Mutable sequence \n",
        " * `list`\n",
        " * `bytearray`\n",
        "* Set \n",
        " * `set`  (mutable)\n",
        " * `fronzenset` (immutable)\n",
        "* Mapping\n",
        " * `dictionary`"
      ]
    },
    {
      "cell_type": "code",
      "metadata": {
        "id": "kWNFm4Kmh2iY",
        "colab": {
          "base_uri": "https://localhost:8080/"
        },
        "outputId": "40ee6b94-c87d-4155-d8b1-7b97bd5d4a94"
      },
      "source": [
        "エイビィシー = 3\n",
        "print(エイビィシー)"
      ],
      "execution_count": 2,
      "outputs": [
        {
          "output_type": "stream",
          "text": [
            "3\n"
          ],
          "name": "stdout"
        }
      ]
    },
    {
      "cell_type": "markdown",
      "metadata": {
        "id": "OSHhV-wzwLZe"
      },
      "source": [
        "## Literal\n",
        " \n",
        "A literal expresses a concrete value.\n",
        "\n",
        "### Numbers\n",
        "* `bool` : `True`, `False`\n",
        "* `int` : `123`, `-123`\n",
        "* `float` : `2.5`, `-0.003`, `2.3e10`, `-2.553e-12`\n",
        "* `complex` : `3.0+2.1j`, `-2.1e-2+3.2e3j`\n",
        "\n",
        "### None\n",
        "* `None`\n",
        "\n",
        "### String\n",
        "\n",
        "* `'This is a pen.'`\n",
        "* `\"This is a pen.\"`\n",
        "\n",
        "### List\n",
        "* `[1, 4, 2, 5, 1, -2]`\n",
        "* `[\"This\", \"is\", \"a \", \"pen\"]`\n",
        "* `[1, \"This\", -3.0, \"a\"]`\n",
        "\n",
        "### Tuple\n",
        "* `(1, 4, 2, 5, 1, -2)`\n",
        "* `(\"This\", \"is\", \"a \", \"pen\")`\n",
        "* `(1, \"This\", -3.0, \"a\")`\n",
        "\n",
        "### Dictionary\n",
        "* `{1:\"Freshman\", 2:\"Sophomore\", 3:\"Junior\", 4:\"Senior\"}`\n",
        "* `{\"Freshman\":1, \"Sophomore\":2, \"Junior\":3, \"Senior\":4}`\n",
        "* `{(3, 4):7, (2, 4):\"ABC\", (\"ab\", 3)\":112, (\"dd\", \"ss\"):\"32\"}`\n",
        "\n",
        "### Set\n",
        "* `{1, 4, 2, 5, 1, -2}`\n",
        "* `{\"This\", \"is\", \"a \", \"pen\"}`\n",
        "* `{1, \"This\", -3.0, \"a\"}`\n",
        "\n",
        "## Operator\n",
        "### Arithmetic operator\n",
        "\n",
        "(Previlege Low $\\rightarrow$ High) \n",
        "\n",
        "| Operator | meaning |\n",
        "| ---- | ---- |\n",
        "| `x + y` | |\n",
        "| `x - y` | |\n",
        "| `x * y` | |\n",
        "| `x / y` | |\n",
        "| `x // y` | | devision as integers|\n",
        "| `x % y` | |\n",
        "| `-x` | |\n",
        "| `+x` | |\n",
        "| `x ** y` | $x^y$ |\n",
        "\n",
        "### Logical operator\n",
        "(Previlege Low $\\rightarrow$ High)\n",
        "\n",
        "|Operator | meaning |\n",
        "| ---- | ---- |\n",
        "|`x or y` | logical |\n",
        "|`x and y` | logical and |\n",
        "|`not x` | negation |\n",
        "\n",
        "### Bit operator\n",
        "(Previlege Low $\\rightarrow$ High)\n",
        "\n",
        "| Operator | meaning |\n",
        "| ---- | ---- |\n",
        "|`\\|` | logical or for each bit |\n",
        "|`^` | exclusive or for each bit|\n",
        "|`&` | and for each bit |\n",
        "|`<<`, `>>`  | bit shift (left, right) |\n",
        "|`~` | Negation |\n",
        "\n",
        "### Comparison operator\n",
        "\n",
        "| Operator | meaning |\n",
        "| ---- | ---- |\n",
        "| `x < y`   | |\n",
        "| `x <= y`  | |\n",
        "| `x > y`   | |\n",
        "| `x >= y`  | |\n",
        "| `x == y`  | |\n",
        "| `x != y`  | |\n",
        "| `x is y` | `x` and `y` are the same object.|\n",
        "| `x is not y`  | |\n",
        "| `x in y` | `x` is included in `y`.|\n",
        "| `x not in y`  | |\n",
        "\n",
        "### Membership operator\n",
        "\n",
        "| Operator | meaning |\n",
        "| ---- | ---- |\n",
        "| `x in y` | `x` is included in `y`.|\n",
        "| `x not in y` | |\n",
        "\n",
        "### Equality operator\n",
        "\n",
        "| Operator | meaning |\n",
        "| ---- | ---- |\n",
        "|`x is y` | `x` and `y` are the same object.|\n",
        "|`x is not y` | |\n",
        "\n",
        "\n",
        "### Cumulative assign operator\n",
        "(Previlege Low $\\rightarrow$ High) \n",
        "\n",
        "| Operator | meaning |\n",
        "| ---- | ---- |\n",
        "|  `x += y` | `x = x + y` |\n",
        "| `x -= y` |  `x = x - y` |\n",
        "| `x *= y` |  `x = x * y` |\n",
        "| `x /= y` |  `x = x / y` |\n",
        "| `x //= y` |  `x = x // y` |\n",
        "| `x %= y` |  `x = x % y` |\n",
        "| `x >>= y` |  `x = x >> y` |\n",
        "| `x <<= y` | \\ `x = x << y` |\n",
        "| `x &= y` |  `x = x & y` |\n",
        "| `x ^= y` |  `x = x ^ y` |\n",
        "| `x \\|= y` | `x = x \\| y` |\n",
        "\n",
        "\n",
        "### Operators in Python\n",
        "\n",
        "(Previlege Low $\\rightarrow$ High) \n",
        "\n",
        "| Operator | meaning |\n",
        "| ---- | ---- |\n",
        "| `lambda` | | \n",
        "| `if` `else` | | \n",
        "| Logical operators | | \n",
        "| Membership operators | |\n",
        "| Equality operators | | \n",
        "| Bit operators | (Except `~x` ) |\n",
        "| Arithmetic operators | (Except `+x`,  `-x`, and `x ** y`) |\n",
        "| `+x`, `-x`, and `~x` | |\n",
        "| `x ** y` | |\n",
        "| `x`.attribute | reference of attribute | \n",
        "| `x[`index`]`, `x[`index`:`index`]` |  indexces of array |\n",
        "| `x(`expression, ... `)` | Call of a function |\n",
        "| \n",
        "|`(`expression, ... `)` <br> `[`expression, ... `]` <br> `[`key`:` value, ... `}` <br> `{`expression, ... `}` |  Tuple literal <br>  List literal <br>  Dictonary literal<br>  Set literal |\n"
      ]
    },
    {
      "cell_type": "markdown",
      "metadata": {
        "id": "0sPwzvkR6I6e"
      },
      "source": [
        "## Expression\n",
        "* The expression can be evaluated and have a value.\n",
        "* Examples:\n",
        " * literals: ```3```, ```[1, 2]```\n",
        " * Combination of operator and operand: ```-x```, ```x + y```, ```z = x + y```, ```x == y```\n",
        " * Function: ```sin(x)```\n",
        "\n",
        "## Statement\n",
        "\n",
        "* Statement expresses a procedure.\n",
        "* Expression is also a statement.\n",
        "* Examples of statement: ```if```, ```elif```, ```else```, ```break```, ```continue```,  and ```import``` statements.\n"
      ]
    },
    {
      "cell_type": "markdown",
      "metadata": {
        "id": "_aiF675K6r5j"
      },
      "source": [
        "## Control\n",
        "### If\n",
        "* Conditional execution. \n",
        "\n",
        "```\n",
        "x = 3\n",
        "if (x == 3):\n",
        "  print('x is three.')\n",
        "print(\"End of program.\")\n",
        "```\n",
        "\n",
        "### else\n",
        "\n",
        "```\n",
        "x = 3\n",
        "if (x == 3):\n",
        "  print('x is three.')\n",
        "else:\n",
        "  print('x is not three.')\n",
        "print(\"End of program.\")\n",
        "```\n",
        "\n",
        "### elif\n",
        "\n",
        "```\n",
        "x = 3\n",
        "if (x == 3):\n",
        "  print('x is three.')\n",
        "elif (x == 7):\n",
        "  print('x is seven.')\n",
        "else:\n",
        "  print('x is not three or seven.')\n",
        "print(\"End of program.\")\n",
        "```\n",
        "\n",
        "### Nest\n",
        "\n",
        "* Conditional sentences in a conditional sentence.\n",
        "* Loop sentences in a loop sentence.\n",
        "\n",
        "```\n",
        "x = 3\n",
        "y = 5\n",
        "if (x == 3):\n",
        "  if (y == 5):\n",
        "    print('x is three and y is five.')\n",
        "  else:\n",
        "    print('x is three and y is not five.')\n",
        "else:\n",
        "  if (y == 9):\n",
        "    print('x is not three and y is nine.')\n",
        "  else:\n",
        "    print('x is not three and y is not nine.')\n",
        "  print('x is not three.')\n",
        "print(\"End of program.\")\n",
        "```\n"
      ]
    },
    {
      "cell_type": "code",
      "metadata": {
        "id": "wKj75onPh2ia",
        "colab": {
          "base_uri": "https://localhost:8080/"
        },
        "outputId": "cef321e8-93ec-4297-d977-0ccd2e0c1b3f"
      },
      "source": [
        "# Make a program: Use if sentence\r\n",
        "x = 3\r\n",
        "y = 5\r\n",
        "if (x==3):\r\n",
        "  print(\"x is three.\")\r\n",
        "print(\"End of program.\")"
      ],
      "execution_count": null,
      "outputs": [
        {
          "output_type": "stream",
          "text": [
            "x is three.\n",
            "End of program.\n"
          ],
          "name": "stdout"
        }
      ]
    },
    {
      "cell_type": "code",
      "metadata": {
        "id": "fOnkSDQsh2id",
        "colab": {
          "base_uri": "https://localhost:8080/"
        },
        "outputId": "cd75f217-34e6-4ea9-b5a3-df2deb0405fd"
      },
      "source": [
        "# Make a program: Use if and else sentence\r\n",
        "x = 5\r\n",
        "if (x==3):\r\n",
        "  print(\"x is three.\")\r\n",
        "else: \r\n",
        "  print(\"x is not three.\")\r\n",
        "print(\"End of program.\")"
      ],
      "execution_count": null,
      "outputs": [
        {
          "output_type": "stream",
          "text": [
            "x is not three.\n",
            "End of program.\n"
          ],
          "name": "stdout"
        }
      ]
    },
    {
      "cell_type": "code",
      "metadata": {
        "id": "RggbAkPlh2im",
        "colab": {
          "base_uri": "https://localhost:8080/"
        },
        "outputId": "d5290e5f-6220-4d12-fb2e-fa76a5e64194"
      },
      "source": [
        "# Make a program: Use if, elif, and else sentence\r\n",
        "x = 5\r\n",
        "if (x == 3):\r\n",
        "  print(\"x is three.\")\r\n",
        "elif (x == 5):\r\n",
        "  print(\"x is five.\")\r\n",
        "else:\r\n",
        "  print(\"x is neither three nor five.\")\r\n",
        "print(\"End of program.\")"
      ],
      "execution_count": null,
      "outputs": [
        {
          "output_type": "stream",
          "text": [
            "x is five.\n",
            "End of program.\n"
          ],
          "name": "stdout"
        }
      ]
    },
    {
      "cell_type": "code",
      "metadata": {
        "id": "BdRDKVMFh2iv",
        "colab": {
          "base_uri": "https://localhost:8080/"
        },
        "outputId": "5825ebe2-adaf-42e7-b478-f65f1f3a24f8"
      },
      "source": [
        "# Make a program: Use nesting of if and else sentence\r\n",
        "x = 3\r\n",
        "y = 12\r\n",
        "if (x == 3):\r\n",
        "  if ( y == 8):\r\n",
        "    print(\"x is three and y is eight.\")\r\n",
        "  else:\r\n",
        "    print(\"x is three and y is not eight.\")\r\n",
        "else:\r\n",
        "  if ( y == 8):\r\n",
        "    print(\"x is not three and y is eight.\")\r\n",
        "  else:\r\n",
        "    print (\"x is not three and y is not eight.\")\r\n",
        "print(\"End of program.\")      "
      ],
      "execution_count": null,
      "outputs": [
        {
          "output_type": "stream",
          "text": [
            "x is three and y is not eight.\n",
            "End of program.\n"
          ],
          "name": "stdout"
        }
      ]
    },
    {
      "cell_type": "markdown",
      "metadata": {
        "id": "He9fLS2o7RGq"
      },
      "source": [
        "### for\n",
        "\n",
        "* Loop sentence\n",
        "* Range object : ```range(2, 6)``` is equivalent to ```(2, 3, 4, 5)```\n",
        "\n",
        "```\n",
        "sum = 0\n",
        "for x in range(1, 11):\n",
        "  print(x)\n",
        "  sum += x\n",
        "print(sum)\n",
        "```\n",
        "\n",
        "By using list.\n",
        "\n",
        "```\n",
        "sum = 0\n",
        "for x in (1, 2, 3, 4, 5, 6, 7, 8, 9, 10):\n",
        "  print(x)\n",
        "  sum += x\n",
        "print(sum)\n",
        "```\n",
        "\n",
        "Try by changing tuple to \n",
        "* List: ```[1, 2, 3, 4, 5, 6, 7, 8, 9, 10]``` and ```[2, 1, 3, 4, 5, 6, 7, 8, 9, 10]``` \n",
        "* Set: ```{1, 2, 3, 4, 5, 6, 7, 8, 9, 10}``` and ```{2, 1, 3, 4, 5, 6, 7, 8, 9, 10}``` \n",
        "* Dictonary\n",
        "\n",
        "```\n",
        "dic = {1:\"one one\", 2:\"two\", 3:\"surii\"}\n",
        "for key in dic:\n",
        "  print(key)\n",
        "  print(dic[key])\n",
        "```"
      ]
    },
    {
      "cell_type": "code",
      "metadata": {
        "id": "7dtpe3EKh2ix",
        "colab": {
          "base_uri": "https://localhost:8080/"
        },
        "outputId": "77d25f67-7e4d-412f-9dff-8c27f20f0623"
      },
      "source": [
        "# Make a program: sum from 1 to 10 using range\r\n",
        "sum = 0\r\n",
        "for x in range(1,11):\r\n",
        "  sum += x\r\n",
        "print(sum)"
      ],
      "execution_count": null,
      "outputs": [
        {
          "output_type": "stream",
          "text": [
            "55\n"
          ],
          "name": "stdout"
        }
      ]
    },
    {
      "cell_type": "code",
      "metadata": {
        "id": "Xp4JM3b5h2i8",
        "colab": {
          "base_uri": "https://localhost:8080/"
        },
        "outputId": "d13e549a-88b2-497a-a1f5-ee9df244e083"
      },
      "source": [
        "# Make a program: Sum from 1 to 10 using tuple\r\n",
        "sum = 0\r\n",
        "for x in (1, 2, 3, 4, 5, 6, 7, 8, 9, 10):\r\n",
        "  sum += x\r\n",
        "print(sum)"
      ],
      "execution_count": null,
      "outputs": [
        {
          "output_type": "stream",
          "text": [
            "55\n"
          ],
          "name": "stdout"
        }
      ]
    },
    {
      "cell_type": "code",
      "metadata": {
        "id": "qpPdX3wwh2i_",
        "colab": {
          "base_uri": "https://localhost:8080/"
        },
        "outputId": "ce2b236a-839b-48ed-ec11-9f05a2554312"
      },
      "source": [
        "# Make a program: Sum from 1 to 10 using list\r\n",
        "sum = 0\r\n",
        "for x in [1, 2, 3, 4, 5, 6, 7, 8, 9, 10]:\r\n",
        "  sum += x\r\n",
        "print(sum)"
      ],
      "execution_count": null,
      "outputs": [
        {
          "output_type": "stream",
          "text": [
            "55\n"
          ],
          "name": "stdout"
        }
      ]
    },
    {
      "cell_type": "code",
      "metadata": {
        "id": "PvOU0F1ch2jB",
        "colab": {
          "base_uri": "https://localhost:8080/"
        },
        "outputId": "accae692-834f-402d-e4b2-ffb327887edc"
      },
      "source": [
        "# Make a program: Sum from 1 to 10 using set\r\n",
        "sum = 0\r\n",
        "for x in {1, 2, 3, 4, 5, 6, 7, 8, 9, 10}:\r\n",
        "  sum += x\r\n",
        "print(sum)"
      ],
      "execution_count": null,
      "outputs": [
        {
          "output_type": "stream",
          "text": [
            "55\n"
          ],
          "name": "stdout"
        }
      ]
    },
    {
      "cell_type": "code",
      "metadata": {
        "id": "iPwSb0ONh2jM",
        "colab": {
          "base_uri": "https://localhost:8080/"
        },
        "outputId": "9793ca9f-a1c7-451b-a585-5a0179d8e9d1"
      },
      "source": [
        "# Make a program: Use dictonary\r\n",
        "sum = 0\r\n",
        "dic = {1:\"one one\", 2:\"two\", 3:\"surii\",4:\"four\",5:\"five\",6:\"six\",}\r\n",
        "for key in dic:\r\n",
        "  print(key)\r\n",
        "  print(dic[key])"
      ],
      "execution_count": null,
      "outputs": [
        {
          "output_type": "stream",
          "text": [
            "1\n",
            "one one\n",
            "2\n",
            "two\n",
            "3\n",
            "surii\n",
            "4\n",
            "four\n",
            "5\n",
            "five\n",
            "6\n",
            "six\n"
          ],
          "name": "stdout"
        }
      ]
    },
    {
      "cell_type": "markdown",
      "metadata": {
        "id": "-pHunaB57xGX"
      },
      "source": [
        "### break,  continue, else\n",
        "\n",
        "* `break` : Exit from loop.\n",
        "* `continue` : Latter part of loop is skipped. \n",
        "* `else` : When the loop ended normally (not by `break`) the following block is executed. \n",
        "\n",
        "```\n",
        "sum = 0\n",
        "for x in range(1, 11):\n",
        "  print(x)\n",
        "  if (x == 5):\n",
        "    break\n",
        "  sum += x\n",
        "print(sum)\n",
        "```\n",
        "\n",
        "```\n",
        "\n",
        "sum = 0\n",
        "for x in range(1, 11):\n",
        "  print(x)\n",
        "  if (x == 5):\n",
        "    continue\n",
        "  sum += x\n",
        "print(sum)\n",
        "```\n",
        "\n",
        "```\n",
        "sum = 0\n",
        "for x in range(1, 11):\n",
        "  print(x)\n",
        "  if (x == 5):\n",
        "    break\n",
        "  sum += x\n",
        "else:\n",
        "  print(\"Else sentence\")\n",
        "print(sum)\n",
        "```\n",
        "\n",
        "```\n",
        "sum = 0\n",
        "for x in range(1, 11):\n",
        "  print(x)\n",
        "  if (x == 5):\n",
        "    continue\n",
        "  sum += x\n",
        "else:\n",
        "  print(\"Else sentence\")\n",
        "print(sum)\n",
        "```"
      ]
    },
    {
      "cell_type": "code",
      "metadata": {
        "id": "gNevaP7Ih2jO",
        "colab": {
          "base_uri": "https://localhost:8080/"
        },
        "outputId": "48bf2095-3e8f-40d4-fa30-47d072c346e2"
      },
      "source": [
        "# Make a program: Use break sentence\r\n",
        "sum = 0\r\n",
        "for x in range(1,11):\r\n",
        "  sum += x\r\n",
        "  if sum > 12:\r\n",
        "    break\r\n",
        "print(sum)"
      ],
      "execution_count": null,
      "outputs": [
        {
          "output_type": "stream",
          "text": [
            "15\n"
          ],
          "name": "stdout"
        }
      ]
    },
    {
      "cell_type": "code",
      "metadata": {
        "id": "oxBU3nG6ysW4",
        "colab": {
          "base_uri": "https://localhost:8080/"
        },
        "outputId": "cd3f90c9-1213-4a99-e271-bbe561dfc76f"
      },
      "source": [
        "# Make a program: Use continue sentence\r\n",
        "sum = 0\r\n",
        "for x in (1, 2, 3, 4, 5, 6, 7, 8, 9, 10):\r\n",
        "  sum += x\r\n",
        "  if x == 8:\r\n",
        "    continue\r\n",
        "print(sum)\r\n"
      ],
      "execution_count": null,
      "outputs": [
        {
          "output_type": "stream",
          "text": [
            "55\n"
          ],
          "name": "stdout"
        }
      ]
    },
    {
      "cell_type": "code",
      "metadata": {
        "id": "o0vMeOqBh2jT",
        "colab": {
          "base_uri": "https://localhost:8080/"
        },
        "outputId": "94f363f2-fdc7-4b9d-aa7f-1683e62007de"
      },
      "source": [
        "# Make a program: Use break sentence and else sentence for for sentence\r\n",
        "sum = 0\r\n",
        "for x in range(1,11):\r\n",
        "  sum += x\r\n",
        "  if sum == 10:\r\n",
        "    break\r\n",
        "  else:\r\n",
        "    continue\r\n",
        "print(sum)"
      ],
      "execution_count": null,
      "outputs": [
        {
          "output_type": "stream",
          "text": [
            "10\n"
          ],
          "name": "stdout"
        }
      ]
    },
    {
      "cell_type": "code",
      "metadata": {
        "id": "xyo-9n8Wy7az",
        "colab": {
          "base_uri": "https://localhost:8080/"
        },
        "outputId": "95221232-08e9-4ba3-b159-0b09d740768b"
      },
      "source": [
        "# Make a program: Use continue sentence and else sentence for for sentence\r\n",
        "sum = 0\r\n",
        "for x in range(1,11):\r\n",
        "  sum += x\r\n",
        "  if sum >50:\r\n",
        "    print(\"fifty\") \r\n",
        "  else:\r\n",
        "    continue \r\n",
        "  \r\n",
        "print(sum)\r\n"
      ],
      "execution_count": null,
      "outputs": [
        {
          "output_type": "stream",
          "text": [
            "fifty\n",
            "55\n"
          ],
          "name": "stdout"
        }
      ]
    },
    {
      "cell_type": "markdown",
      "metadata": {
        "id": "dSDBkeWO8J7n"
      },
      "source": [
        "### while\n",
        "* When the condition is true, the following block is executed.\n",
        "\n",
        "```\n",
        "sum = 0\n",
        "x = 1;\n",
        "while x < 11:\n",
        "  print(x)\n",
        "  sum += x\n",
        "  x += 1\n",
        "print(sum)\n",
        "```"
      ]
    },
    {
      "cell_type": "code",
      "metadata": {
        "id": "m5jpoYwUh2jd",
        "colab": {
          "base_uri": "https://localhost:8080/"
        },
        "outputId": "ed8fdc20-4001-473a-d3d5-c2e8c4b90cb6"
      },
      "source": [
        "# Make a program: Use while sentence\r\n",
        "sum = 0\r\n",
        "x = 0\r\n",
        "while x < 100:\r\n",
        "  sum += x\r\n",
        "  x += 1\r\n",
        "print(x, sum)\r\n",
        "\r\n"
      ],
      "execution_count": null,
      "outputs": [
        {
          "output_type": "stream",
          "text": [
            "100 4950\n"
          ],
          "name": "stdout"
        }
      ]
    },
    {
      "cell_type": "markdown",
      "metadata": {
        "id": "q8avSV0R8WP3"
      },
      "source": [
        "## Function\n",
        "\n",
        "* When you have many same processes for various values, it is not good to describe them respectively.\n",
        "* Define a function that describes the process.\n",
        "* A function is defined by `def`.\n",
        "* A function of python can return multiple values by using `return`.\n",
        "* When a function is called, arguments specified by order or variables. \n",
        "* Example: \n",
        "\n",
        "```\n",
        "def printxy(x, y):\n",
        "    print(\"x = {0}, y = {1}\".format(x, y))\n",
        "\n",
        "printxy(2, 4)\n",
        "printxy(y = 2, x = 4)\n",
        "```\n",
        "\n",
        "* Example:\n",
        "\n",
        "```\n",
        "# Return product\n",
        "def prod(x, y):\n",
        "    prodv = x * y\n",
        "    return prodv\n",
        "    \n",
        "a = 10\n",
        "b = 7\n",
        "u = prod(a, b)\n",
        "print(\"{0} x {1} = {2}\".format(a, b, u))\n",
        "```\n",
        "\n",
        "* Example\n",
        "\n",
        "```\n",
        "# Euclidean algorithm\n",
        "def euclid(x, y):\n",
        "    u, v = x, y\n",
        "    while(u != 0):\n",
        "        u, v = (v % u), u\n",
        "    else:\n",
        "        lcd = v\n",
        "        mcm = int(x * y / lcd)\n",
        "    return lcd, mcm\n",
        "\n",
        "x = 12\n",
        "y = 9\n",
        "a, b = euclid(x, y)\n",
        "print(\"For {0} and {1}, LCD = {2}, MCM = {3}\".format(x, y, a, b))\n",
        "```"
      ]
    },
    {
      "cell_type": "code",
      "metadata": {
        "id": "hIya_7dDh2jf",
        "colab": {
          "base_uri": "https://localhost:8080/"
        },
        "outputId": "206bd1db-dc6e-4f9f-a28e-18d2a028a3d8"
      },
      "source": [
        "def printxy(x, y):\n",
        "  print(\"x = {0}, y = {1}\".format(x, y))\n",
        "\n",
        "printxy(2, 4)\n",
        "printxy(y = 2, x = 4)"
      ],
      "execution_count": 3,
      "outputs": [
        {
          "output_type": "stream",
          "text": [
            "x = 2, y = 4\n",
            "x = 4, y = 2\n"
          ],
          "name": "stdout"
        }
      ]
    },
    {
      "cell_type": "code",
      "metadata": {
        "id": "-pXdMGjJh2jh",
        "colab": {
          "base_uri": "https://localhost:8080/"
        },
        "outputId": "60830558-ac87-4769-8c3a-5c5f8004bfe0"
      },
      "source": [
        "# Make a program: Make and use a function that retruns product\r\n",
        "def prod(x,y):\r\n",
        "  product = x * y\r\n",
        "  return product\r\n",
        "\r\n",
        "def div(x,y):\r\n",
        "  quot = x / y\r\n",
        "  return quot\r\n",
        "\r\n",
        "a = 5\r\n",
        "b = 26\r\n",
        "u = prod(a,b)\r\n",
        "print(\"{0} x {1} = {2}\". format(a, b, u))\r\n"
      ],
      "execution_count": 4,
      "outputs": [
        {
          "output_type": "stream",
          "text": [
            "5 x 26 = 130\n"
          ],
          "name": "stdout"
        }
      ]
    },
    {
      "cell_type": "code",
      "metadata": {
        "id": "kCbrP-iVh2jn",
        "colab": {
          "base_uri": "https://localhost:8080/"
        },
        "outputId": "bbe2b3f9-1832-4dea-a62b-faa4ff6b1624"
      },
      "source": [
        "# Make a program: Make a program of Euclidean algorithm\r\n",
        "def euclid(x, y):\r\n",
        "    u, v = x, y\r\n",
        "    while(u != 0):\r\n",
        "        u, v = (v % u), u\r\n",
        "    else:\r\n",
        "        lcd = v\r\n",
        "        mcm = int(x * y / lcd)\r\n",
        "    return lcd, mcm\r\n",
        "\r\n",
        "x = input(\"Please enter a value for x:\\n\")\r\n",
        "x = int(x)\r\n",
        "y = input(\"Please enter a value for y:\\n\")\r\n",
        "y = int(y)\r\n",
        "\r\n",
        "a, b = euclid(x,y)\r\n",
        "\r\n",
        "print(\"For {0} and {1}, LCD = {2}, MCM = {3}\".format(x,y,a,b))\r\n",
        "\r\n"
      ],
      "execution_count": 8,
      "outputs": [
        {
          "output_type": "stream",
          "text": [
            "Please enter a value for x:\n",
            "60\n",
            "Please enter a value for y:\n",
            "100\n",
            "For 60 and 100, LCD = 20, MCM = 300\n"
          ],
          "name": "stdout"
        }
      ]
    },
    {
      "cell_type": "code",
      "metadata": {
        "id": "dJskhn5wh2jp",
        "colab": {
          "base_uri": "https://localhost:8080/"
        },
        "outputId": "51761379-5f1f-4cf4-faac-d0488e584630"
      },
      "source": [
        "# Pass by value or pass by reference for a function.\n",
        "def valOrRef(x, y):\n",
        "  x = 11\n",
        "  y[1] = 12\n",
        "  print(\"x and y[1] in a fuction are {0} and {1}\".format(x, y[1]))\n",
        "    \n",
        "x = 1\n",
        "y = [1, 2, 3]\n",
        "print(\"x and y[1] at first are {0} and {1}\".format(x, y[1]))\n",
        "valOrRef(x, y)\n",
        "print(\"x and y[1] after the function are {0} and {1}\".format(x, y[1]))"
      ],
      "execution_count": null,
      "outputs": [
        {
          "output_type": "stream",
          "text": [
            "x and y[1] at first are 1 and 2\n",
            "x and y[1] in a fuction are 11 and 12\n",
            "x and y[1] after the function are 1 and 12\n"
          ],
          "name": "stdout"
        }
      ]
    },
    {
      "cell_type": "markdown",
      "metadata": {
        "id": "15z2EfGS8vj7"
      },
      "source": [
        "## Objects\n",
        "\n",
        "Discuss at the next class. \n"
      ]
    },
    {
      "cell_type": "markdown",
      "metadata": {
        "id": "ykLREeT39S9i"
      },
      "source": [
        "# Report\n",
        "\n",
        "* For every class, students have to submit a report in 7 days after the lecture.\n",
        "* The main file should be the nootbook format of ipython. Its file name should be ```[student number]Lec[day of class].ipynb```. (ex. ```18B54321Lec1.ipynb```)\n",
        "* Markdown cells are allowed to describe the report.\n",
        "* Supplementary files such as images for Class 4 are allowed. Their files should be like ```[student number]Lec[day of class]Sub[number].[extension]```. (ex. ```18B54321LecSub1.jpg```)\n",
        "* Submit the file(s) in the corresponding page of T2SCHOLA (```https://t2schola.titech.ac.jp/course/view.php?id=9753```)."
      ]
    },
    {
      "cell_type": "markdown",
      "metadata": {
        "id": "Kvg3-BEeh2jx"
      },
      "source": [
        "# Makedown\n",
        "\n",
        "## A blank line (Sometimes two blank lines) is not necessary to separate blocks.\n",
        "```\n",
        "This is a apen.\n",
        "This is a pencil.\n",
        "\n",
        "This is a ballpoint.\n",
        "```\n",
        "\n",
        "This is a apen.\n",
        "This is a pencil.\n",
        "\n",
        "This is a ballpoint.\n",
        "\n",
        "## `#` : For titles\n",
        "``` \n",
        "## List\n",
        "```\n",
        "\n",
        "## List\n",
        "\n",
        "* ```*``` : For list. (Indent can be used)\n",
        "* ```1.``` : For list with a number. (Indent can be used)\n",
        "\n",
        "```\n",
        "* item 1\n",
        "* item 2\n",
        "  * item 2.1\n",
        "* item 3\n",
        "```\n",
        "\n",
        "* list 1\n",
        "* item 2\n",
        "  * item 2.1\n",
        "* list 3\n",
        "\n",
        "```\n",
        "1. Nlist 1\n",
        "1. Nlist 2\n",
        "  1. Nlist 2.1\n",
        "  1. Nlist 2.2\n",
        "1. Nlist 3 \n",
        "```\n",
        "\n",
        "1. Nlist 1\n",
        "1. Nlist 2\n",
        "  1. Nlist 2.1\n",
        "  1. Nlist 2.2\n",
        "1. Nlist 3 \n",
        "\n",
        "## Preformatted text\n",
        "\n",
        "## Code in a line\n",
        "\n",
        "* \\`sin(0.5)\\` for preformatted text (in line)  as `sin(0.5)`.\n",
        "* ```    ``` (4 spaces or tab) For preformatted text (block).\n",
        "* Between two triple backquatos : For preformatted text in a line.\n",
        "\n",
        "```\n",
        "This is\n",
        "  A\n",
        "    B\n",
        "\n",
        "    This is\n",
        "      A\n",
        "         B\n",
        "```\n",
        "\n",
        "This is\n",
        "  A\n",
        "    B\n",
        "\n",
        "    This is\n",
        "      A\n",
        "         B\n",
        "\n",
        "## Two spaces after a text : New line\n",
        "\n",
        "```\n",
        "This is\n",
        "a pen\n",
        "\n",
        "This is  \n",
        "a pen\n",
        "```\n",
        "This is\n",
        "a pen\n",
        "\n",
        "This is  \n",
        "a pen\n",
        "\n",
        "## Equation: Between two `$` (in line) and `$$` (in next line)\n",
        "\n",
        "```\n",
        "This is $\\frac{3}{4}$.\n",
        "```\n",
        "This is $\\frac{3}{4}$.\n",
        "\n",
        "```\n",
        "We have \n",
        "$$\n",
        "\\frac{1}{2} + \\frac{1}{3} = \\frac{5}{6}.\n",
        "$$\n",
        "```\n",
        "We have \n",
        "$$\n",
        "\\frac{1}{2} + \\frac{1}{3} = \\frac{5}{6}.\n",
        "$$\n"
      ]
    }
  ]
}